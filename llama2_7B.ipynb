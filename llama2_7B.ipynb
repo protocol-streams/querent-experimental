{
  "cells": [
    {
      "cell_type": "markdown",
      "metadata": {
        "id": "view-in-github",
        "colab_type": "text"
      },
      "source": [
        "<a href=\"https://colab.research.google.com/github/protocol-streams/querent-experimental/blob/main/llama2_7B.ipynb\" target=\"_parent\"><img src=\"https://colab.research.google.com/assets/colab-badge.svg\" alt=\"Open In Colab\"/></a>"
      ]
    },
    {
      "cell_type": "markdown",
      "metadata": {
        "id": "sYAdx8aSaV8S"
      },
      "source": [
        "https://swharden.com/blog/2023-07-29-ai-chat-locally-with-python/"
      ]
    },
    {
      "cell_type": "code",
      "source": [
        "!pip install llama-cpp-python==0.1.78"
      ],
      "metadata": {
        "colab": {
          "base_uri": "https://localhost:8080/"
        },
        "id": "WWGmoyria80h",
        "outputId": "012f2c1d-bec3-41ac-dbd6-4d34dca34218"
      },
      "execution_count": 1,
      "outputs": [
        {
          "output_type": "stream",
          "name": "stdout",
          "text": [
            "Collecting llama-cpp-python==0.1.78\n",
            "  Downloading llama_cpp_python-0.1.78.tar.gz (1.7 MB)\n",
            "\u001b[2K     \u001b[90m━━━━━━━━━━━━━━━━━━━━━━━━━━━━━━━━━━━━━━━━\u001b[0m \u001b[32m1.7/1.7 MB\u001b[0m \u001b[31m12.4 MB/s\u001b[0m eta \u001b[36m0:00:00\u001b[0m\n",
            "\u001b[?25h  Installing build dependencies ... \u001b[?25l\u001b[?25hdone\n",
            "  Getting requirements to build wheel ... \u001b[?25l\u001b[?25hdone\n",
            "  Preparing metadata (pyproject.toml) ... \u001b[?25l\u001b[?25hdone\n",
            "Requirement already satisfied: typing-extensions>=4.5.0 in /usr/local/lib/python3.10/dist-packages (from llama-cpp-python==0.1.78) (4.7.1)\n",
            "Requirement already satisfied: numpy>=1.20.0 in /usr/local/lib/python3.10/dist-packages (from llama-cpp-python==0.1.78) (1.23.5)\n",
            "Collecting diskcache>=5.6.1 (from llama-cpp-python==0.1.78)\n",
            "  Downloading diskcache-5.6.1-py3-none-any.whl (45 kB)\n",
            "\u001b[2K     \u001b[90m━━━━━━━━━━━━━━━━━━━━━━━━━━━━━━━━━━━━━━━━\u001b[0m \u001b[32m45.6/45.6 kB\u001b[0m \u001b[31m4.9 MB/s\u001b[0m eta \u001b[36m0:00:00\u001b[0m\n",
            "\u001b[?25hBuilding wheels for collected packages: llama-cpp-python\n",
            "  Building wheel for llama-cpp-python (pyproject.toml) ... \u001b[?25l\u001b[?25hdone\n",
            "  Created wheel for llama-cpp-python: filename=llama_cpp_python-0.1.78-cp310-cp310-linux_x86_64.whl size=296587 sha256=3c803383410d6a91454e36f01aa582dda072b55544a7a24fb85f54abf8b6a1a9\n",
            "  Stored in directory: /root/.cache/pip/wheels/61/f9/20/9ca660a9d3f2a47e44217059409478865948b5c8a1cba70030\n",
            "Successfully built llama-cpp-python\n",
            "Installing collected packages: diskcache, llama-cpp-python\n",
            "Successfully installed diskcache-5.6.1 llama-cpp-python-0.1.78\n"
          ]
        }
      ]
    },
    {
      "cell_type": "code",
      "source": [
        "# Connect to Google Colab\n",
        "from google.colab import drive\n",
        "drive.mount('/content/drive')\n"
      ],
      "metadata": {
        "colab": {
          "base_uri": "https://localhost:8080/"
        },
        "id": "rWsEliDWB9qx",
        "outputId": "93be67d8-e937-42f4-85f0-a342255de23f"
      },
      "execution_count": 2,
      "outputs": [
        {
          "output_type": "stream",
          "name": "stdout",
          "text": [
            "Mounted at /content/drive\n"
          ]
        }
      ]
    },
    {
      "cell_type": "code",
      "source": [
        "#%cd drive/MyDrive/corpus-data/"
      ],
      "metadata": {
        "id": "Pmgec6JxB_ml"
      },
      "execution_count": null,
      "outputs": []
    },
    {
      "cell_type": "code",
      "execution_count": 3,
      "metadata": {
        "id": "AvCFE1_YaV8V"
      },
      "outputs": [],
      "source": [
        "from llama_cpp import Llama\n",
        "\n",
        "from IPython.display import display, HTML\n",
        "import json\n",
        "import time\n",
        "import pathlib"
      ]
    },
    {
      "cell_type": "markdown",
      "metadata": {
        "id": "zTtxpjDYaV8W"
      },
      "source": [
        "Load two different models so we can compare their responses to the same prompt.\n",
        "\n",
        "Note that `n_ctx` is the maximum number of context tokens, and increasing this value increases the maximum length of the responses."
      ]
    },
    {
      "cell_type": "code",
      "source": [
        "%cd drive/MyDrive/LLAMA2/"
      ],
      "metadata": {
        "colab": {
          "base_uri": "https://localhost:8080/"
        },
        "id": "SO2mmyHWaQCj",
        "outputId": "123f8c52-f86b-4bc0-ac32-2a5af850a448"
      },
      "execution_count": 4,
      "outputs": [
        {
          "output_type": "stream",
          "name": "stdout",
          "text": [
            "/content/drive/MyDrive/LLAMA2\n"
          ]
        }
      ]
    },
    {
      "cell_type": "code",
      "source": [
        "%pwd"
      ],
      "metadata": {
        "colab": {
          "base_uri": "https://localhost:8080/",
          "height": 36
        },
        "id": "4jgDzPy1aDqw",
        "outputId": "107f0a43-a356-4656-f6f8-c2e2f08beeed"
      },
      "execution_count": 10,
      "outputs": [
        {
          "output_type": "execute_result",
          "data": {
            "text/plain": [
              "'/content/drive/MyDrive/LLAMA2'"
            ],
            "application/vnd.google.colaboratory.intrinsic+json": {
              "type": "string"
            }
          },
          "metadata": {},
          "execution_count": 10
        }
      ]
    },
    {
      "cell_type": "code",
      "execution_count": 5,
      "metadata": {
        "colab": {
          "base_uri": "https://localhost:8080/"
        },
        "id": "VeQlhSDaaV8X",
        "outputId": "a33ee58c-2d62-4943-95b6-ba1d30fea831"
      },
      "outputs": [
        {
          "output_type": "stream",
          "name": "stderr",
          "text": [
            "AVX = 1 | AVX2 = 1 | AVX512 = 0 | AVX512_VBMI = 0 | AVX512_VNNI = 0 | FMA = 1 | NEON = 0 | ARM_FMA = 0 | F16C = 1 | FP16_VA = 0 | WASM_SIMD = 0 | BLAS = 0 | SSE3 = 1 | VSX = 0 | \n",
            "AVX = 1 | AVX2 = 1 | AVX512 = 0 | AVX512_VBMI = 0 | AVX512_VNNI = 0 | FMA = 1 | NEON = 0 | ARM_FMA = 0 | F16C = 1 | FP16_VA = 0 | WASM_SIMD = 0 | BLAS = 0 | SSE3 = 1 | VSX = 0 | \n"
          ]
        }
      ],
      "source": [
        "MODEL_Q8_0 = Llama(\n",
        "    model_path=\"llama-2-7b-chat.ggmlv3.q8_0.bin\",\n",
        "    n_ctx=2048)\n",
        "\n",
        "MODEL_Q2_K = Llama(\n",
        "    model_path=\"llama-2-7b-chat.ggmlv3.q2_K.bin\",\n",
        "    n_ctx=2048)"
      ]
    },
    {
      "cell_type": "code",
      "execution_count": 6,
      "metadata": {
        "id": "sf9s9kMAaV8Y"
      },
      "outputs": [],
      "source": [
        "def query(model, question):\n",
        "    model_name = pathlib.Path(model.model_path).name\n",
        "    time_start = time.time()\n",
        "    prompt = f\"Q: {question} A:\"\n",
        "    output = model(prompt=prompt, max_tokens=0) # if max tokens is zero, depends on n_ctx\n",
        "    response = output[\"choices\"][0][\"text\"]\n",
        "    time_elapsed = time.time() - time_start\n",
        "    display(HTML(f'<code>{model_name} response time: {time_elapsed:.02f} sec</code>'))\n",
        "    display(HTML(f'<strong>Question:</strong> {question}'))\n",
        "    display(HTML(f'<strong>Answer:</strong> {response}'))\n",
        "    print(json.dumps(output, indent=2))"
      ]
    },
    {
      "cell_type": "code",
      "execution_count": 8,
      "metadata": {
        "colab": {
          "base_uri": "https://localhost:8080/",
          "height": 715
        },
        "id": "YBhUVklfaV8Z",
        "outputId": "6b51679b-7590-4f39-9cda-e3bc778d97d0"
      },
      "outputs": [
        {
          "output_type": "display_data",
          "data": {
            "text/plain": [
              "<IPython.core.display.HTML object>"
            ],
            "text/html": [
              "<code>llama-2-7b-chat.ggmlv3.q2_K.bin response time: 168.51 sec</code>"
            ]
          },
          "metadata": {}
        },
        {
          "output_type": "display_data",
          "data": {
            "text/plain": [
              "<IPython.core.display.HTML object>"
            ],
            "text/html": [
              "<strong>Question:</strong> Given the text - (Glacier mass variations have a direct impact on some of the key components of the\n",
              "global water cycle, including sea level rise and freshwater availability. Apart from being\n",
              "one of the largest Himalayan glaciers, Gangotri is one of the sources of water for the\n",
              "Ganges river, which has a considerable influence on the socioeconomic structure of a\n",
              "largely over-populated catchment area accounting for ∼26% of India’s landmass. In this\n",
              "study, we present the most recent assessment of the Gangotri glacier dynamics, combin-\n",
              "ing the use of interferometric techniques on synthetic aperture radar data and sub-pixel\n",
              "offset tracking on Advanced Spaceborne Thermal Emission and Reflection Radiometer\n",
              "(ASTER) satellite imagery. Results show that on average, the Gangotri glacier snout\n",
              "has receded at a rate of 21.3 ± 3 m year−1 over a period of 6 years (2004–2010).\n",
              "While glacier surface velocity near the snout is estimated to be between 24.8 ± 2.3 and\n",
              "28.9 ± 2.3 m year−1 , interior portions of the glacier recorded velocities in the range of\n",
              "13.9 ± 2.3 to 70.2 ± 2.3 m year−1 . Further, the average glacier surface velocity in the\n",
              "northern (lower) portions (28.1 ± 2.3 m year−1 ) is observed to be significantly lower\n",
              "than in the southern (higher) portions (48.1 ± 2.3 m year−1 ) of the Gangotri glacier.\n",
              "These values are calculated with an uncertainty of less than 5 m year−1 . Results also\n",
              "highlight a consistent retreat and non-uniform dynamics of the Gangotri glacier me money)- can you identify some entities and their relationships?"
            ]
          },
          "metadata": {}
        },
        {
          "output_type": "display_data",
          "data": {
            "text/plain": [
              "<IPython.core.display.HTML object>"
            ],
            "text/html": [
              "<strong>Answer:</strong>  Yes, I can do that. Here are some entities identified from the text along with their relationships:\n",
              "Entities:\n",
              "1. Glaciers - mentioned several times in the text as a collective entity.\n",
              "2. Gangotri glacier - specifically named as one of the sources of water for the Ganges river (para 3).\n",
              "3. Himalayan glaciers - mentioned as one of the largest such glaciers (para 1).\n",
              "4. Sea level rise - directly impacted by glacier mass variations, according to the text (para 1).\n",
              "5. Freshwater availability - also impacted by glacier mass variations (para 1).\n",
              "6. Water cycle - mentioned as a broader context in which the Gangotri glacier dynamics are studied (para 2).\n",
              "7. Socioeconomic structure - affected by the Gangotri glacier, with implications for the largely populated catchment area (para 4).\n",
              "8. Interferometric techniques - used to study glacier dynamics (para 5).\n",
              "9. Sub-pixel offset tracking - another technique used to study glacier dynamics (para 5).\n",
              "10. ASTER satellite imagery - used to gather data on the Gangotri glacier dynamics (para 6).\n",
              "Relationships:\n",
              "1. Glaciers and the global water cycle - The text establishes a connection between glacier mass variations and the global water cycle, specifically highlighting sea level rise and freshwater availability as impacted by the former (para 1).\n",
              "2. Gangotri glacier and the Ganges river - The Gangotri glacier is one of the primary sources of water for the Ganges river, which has significant societal implications due to its large population and catchment area (para 4).\n",
              "3. Interferometric techniques and sub-pixel offset tracking - These methods are used to study glacier dynamics and gather data on glacier mass variations (para 5).\n",
              "4. ASTER satellite imagery - This satellite is used to observe the Gangotri glacier dynamics, including surface velocity and recession rates (para 6)."
            ]
          },
          "metadata": {}
        },
        {
          "output_type": "stream",
          "name": "stdout",
          "text": [
            "{\n",
            "  \"id\": \"cmpl-173c8b36-40d2-4458-b5ea-e005b34954ab\",\n",
            "  \"object\": \"text_completion\",\n",
            "  \"created\": 1693332405,\n",
            "  \"model\": \"llama-2-7b-chat.ggmlv3.q2_K.bin\",\n",
            "  \"choices\": [\n",
            "    {\n",
            "      \"text\": \" Yes, I can do that. Here are some entities identified from the text along with their relationships:\\nEntities:\\n1. Glaciers - mentioned several times in the text as a collective entity.\\n2. Gangotri glacier - specifically named as one of the sources of water for the Ganges river (para 3).\\n3. Himalayan glaciers - mentioned as one of the largest such glaciers (para 1).\\n4. Sea level rise - directly impacted by glacier mass variations, according to the text (para 1).\\n5. Freshwater availability - also impacted by glacier mass variations (para 1).\\n6. Water cycle - mentioned as a broader context in which the Gangotri glacier dynamics are studied (para 2).\\n7. Socioeconomic structure - affected by the Gangotri glacier, with implications for the largely populated catchment area (para 4).\\n8. Interferometric techniques - used to study glacier dynamics (para 5).\\n9. Sub-pixel offset tracking - another technique used to study glacier dynamics (para 5).\\n10. ASTER satellite imagery - used to gather data on the Gangotri glacier dynamics (para 6).\\nRelationships:\\n1. Glaciers and the global water cycle - The text establishes a connection between glacier mass variations and the global water cycle, specifically highlighting sea level rise and freshwater availability as impacted by the former (para 1).\\n2. Gangotri glacier and the Ganges river - The Gangotri glacier is one of the primary sources of water for the Ganges river, which has significant societal implications due to its large population and catchment area (para 4).\\n3. Interferometric techniques and sub-pixel offset tracking - These methods are used to study glacier dynamics and gather data on glacier mass variations (para 5).\\n4. ASTER satellite imagery - This satellite is used to observe the Gangotri glacier dynamics, including surface velocity and recession rates (para 6).\",\n",
            "      \"index\": 0,\n",
            "      \"logprobs\": null,\n",
            "      \"finish_reason\": \"stop\"\n",
            "    }\n",
            "  ],\n",
            "  \"usage\": {\n",
            "    \"prompt_tokens\": 457,\n",
            "    \"completion_tokens\": 461,\n",
            "    \"total_tokens\": 918\n",
            "  }\n",
            "}\n"
          ]
        }
      ],
      "source": [
        "query(MODEL_Q2_K, \"\"\"Given the text - (Glacier mass variations have a direct impact on some of the key components of the\n",
        "global water cycle, including sea level rise and freshwater availability. Apart from being\n",
        "one of the largest Himalayan glaciers, Gangotri is one of the sources of water for the\n",
        "Ganges river, which has a considerable influence on the socioeconomic structure of a\n",
        "largely over-populated catchment area accounting for ∼26% of India’s landmass. In this\n",
        "study, we present the most recent assessment of the Gangotri glacier dynamics, combin-\n",
        "ing the use of interferometric techniques on synthetic aperture radar data and sub-pixel\n",
        "offset tracking on Advanced Spaceborne Thermal Emission and Reflection Radiometer\n",
        "(ASTER) satellite imagery. Results show that on average, the Gangotri glacier snout\n",
        "has receded at a rate of 21.3 ± 3 m year−1 over a period of 6 years (2004–2010).\n",
        "While glacier surface velocity near the snout is estimated to be between 24.8 ± 2.3 and\n",
        "28.9 ± 2.3 m year−1 , interior portions of the glacier recorded velocities in the range of\n",
        "13.9 ± 2.3 to 70.2 ± 2.3 m year−1 . Further, the average glacier surface velocity in the\n",
        "northern (lower) portions (28.1 ± 2.3 m year−1 ) is observed to be significantly lower\n",
        "than in the southern (higher) portions (48.1 ± 2.3 m year−1 ) of the Gangotri glacier.\n",
        "These values are calculated with an uncertainty of less than 5 m year−1 . Results also\n",
        "highlight a consistent retreat and non-uniform dynamics of the Gangotri glacier me money)- can you identify some entities and their relationships?\"\"\")"
      ]
    },
    {
      "cell_type": "code",
      "execution_count": 9,
      "metadata": {
        "colab": {
          "base_uri": "https://localhost:8080/",
          "height": 697
        },
        "id": "Q1fNcDquaV8Z",
        "outputId": "62a0c3e3-f458-4c7c-b9da-41f78f486400"
      },
      "outputs": [
        {
          "output_type": "display_data",
          "data": {
            "text/plain": [
              "<IPython.core.display.HTML object>"
            ],
            "text/html": [
              "<code>llama-2-7b-chat.ggmlv3.q8_0.bin response time: 276.28 sec</code>"
            ]
          },
          "metadata": {}
        },
        {
          "output_type": "display_data",
          "data": {
            "text/plain": [
              "<IPython.core.display.HTML object>"
            ],
            "text/html": [
              "<strong>Question:</strong> Given the text - (Glacier mass variations have a direct impact on some of the key components of the\n",
              "global water cycle, including sea level rise and freshwater availability. Apart from being\n",
              "one of the largest Himalayan glaciers, Gangotri is one of the sources of water for the\n",
              "Ganges river, which has a considerable influence on the socioeconomic structure of a\n",
              "largely over-populated catchment area accounting for ∼26% of India’s landmass. In this\n",
              "study, we present the most recent assessment of the Gangotri glacier dynamics, combin-\n",
              "ing the use of interferometric techniques on synthetic aperture radar data and sub-pixel\n",
              "offset tracking on Advanced Spaceborne Thermal Emission and Reflection Radiometer\n",
              "(ASTER) satellite imagery. Results show that on average, the Gangotri glacier snout\n",
              "has receded at a rate of 21.3 ± 3 m year−1 over a period of 6 years (2004–2010).\n",
              "While glacier surface velocity near the snout is estimated to be between 24.8 ± 2.3 and\n",
              "28.9 ± 2.3 m year−1 , interior portions of the glacier recorded velocities in the range of\n",
              "13.9 ± 2.3 to 70.2 ± 2.3 m year−1 . Further, the average glacier surface velocity in the\n",
              "northern (lower) portions (28.1 ± 2.3 m year−1 ) is observed to be significantly lower\n",
              "than in the southern (higher) portions (48.1 ± 2.3 m year−1 ) of the Gangotri glacier.\n",
              "These values are calculated with an uncertainty of less than 5 m year−1 . Results also\n",
              "highlight a consistent retreat and non-uniform dynamics of the Gangotri glacier me money)- can you identify some entities and their relationships?"
            ]
          },
          "metadata": {}
        },
        {
          "output_type": "display_data",
          "data": {
            "text/plain": [
              "<IPython.core.display.HTML object>"
            ],
            "text/html": [
              "<strong>Answer:</strong>  Certainly! Here are some entities and their relationships that can be identified from the given text:\n",
              "\n",
              "Entities:\n",
              "\n",
              "1. Glacier mass variations - have a direct impact on some key components of the global water cycle, including sea level rise and freshwater availability.\n",
              "2. Gangotri glacier - one of the sources of water for the Ganges river, which has a considerable influence on the socioeconomic structure of a largely over-populated catchment area accounting for ∼26% of India’s landmass.\n",
              "3. Interferometric techniques - used to study Gangotri glacier dynamics combining the use of satellite data.\n",
              "4. Sub-pixel offset tracking - used on Advanced Spaceborne Thermal Emission and Reflection Radiometer (ASTER) satellite imagery to study Gangotri glacier dynamics.\n",
              "5. Glacier surface velocity - estimated to be between 24.8 ± 2.3 and 28.9 ± 2.3 m year−1 near the snout, 13.9 ± 2.3 to 70.2 ± 2.3 m year−1 in interior portions, and 28.1 ± 2.3 m year−1 in northern (lower) portions, significantly lower than in southern (higher) portions of the Gangotri glacier.\n",
              "6. Uncertainty - less than 5 m year−1 for the calculated values.\n",
              "\n",
              "Relationships:\n",
              "\n",
              "1. Glacier mass variations - directly impact sea level rise and freshwater availability.\n",
              "2. Gangotri glacier - supplies water for Ganges river, which has a significant influence on the socioeconomic structure of India’s catchment area.\n",
              "3. Interferometric techniques - combined with satellite data to study Gangotri glacier dynamics.\n",
              "4. Sub-pixel offset tracking - used on ASTER satellite imagery to study Gangotri glacier dynamics.\n",
              "5. Glacier surface velocity - varies near the snout, in interior portions, and in northern (lower) and southern (higher) portions of the Gangotri glacier.\n",
              "6. Uncertainty - is less than 5 m year−1 for the calculated values."
            ]
          },
          "metadata": {}
        },
        {
          "output_type": "stream",
          "name": "stdout",
          "text": [
            "{\n",
            "  \"id\": \"cmpl-5c5cb407-854d-4ea3-b3f7-2cefdcdf365c\",\n",
            "  \"object\": \"text_completion\",\n",
            "  \"created\": 1693332574,\n",
            "  \"model\": \"llama-2-7b-chat.ggmlv3.q8_0.bin\",\n",
            "  \"choices\": [\n",
            "    {\n",
            "      \"text\": \" Certainly! Here are some entities and their relationships that can be identified from the given text:\\n\\nEntities:\\n\\n1. Glacier mass variations - have a direct impact on some key components of the global water cycle, including sea level rise and freshwater availability.\\n2. Gangotri glacier - one of the sources of water for the Ganges river, which has a considerable influence on the socioeconomic structure of a largely over-populated catchment area accounting for \\u223c26% of India\\u2019s landmass.\\n3. Interferometric techniques - used to study Gangotri glacier dynamics combining the use of satellite data.\\n4. Sub-pixel offset tracking - used on Advanced Spaceborne Thermal Emission and Reflection Radiometer (ASTER) satellite imagery to study Gangotri glacier dynamics.\\n5. Glacier surface velocity - estimated to be between 24.8 \\u00b1 2.3 and 28.9 \\u00b1 2.3 m year\\u22121 near the snout, 13.9 \\u00b1 2.3 to 70.2 \\u00b1 2.3 m year\\u22121 in interior portions, and 28.1 \\u00b1 2.3 m year\\u22121 in northern (lower) portions, significantly lower than in southern (higher) portions of the Gangotri glacier.\\n6. Uncertainty - less than 5 m year\\u22121 for the calculated values.\\n\\nRelationships:\\n\\n1. Glacier mass variations - directly impact sea level rise and freshwater availability.\\n2. Gangotri glacier - supplies water for Ganges river, which has a significant influence on the socioeconomic structure of India\\u2019s catchment area.\\n3. Interferometric techniques - combined with satellite data to study Gangotri glacier dynamics.\\n4. Sub-pixel offset tracking - used on ASTER satellite imagery to study Gangotri glacier dynamics.\\n5. Glacier surface velocity - varies near the snout, in interior portions, and in northern (lower) and southern (higher) portions of the Gangotri glacier.\\n6. Uncertainty - is less than 5 m year\\u22121 for the calculated values.\",\n",
            "      \"index\": 0,\n",
            "      \"logprobs\": null,\n",
            "      \"finish_reason\": \"stop\"\n",
            "    }\n",
            "  ],\n",
            "  \"usage\": {\n",
            "    \"prompt_tokens\": 457,\n",
            "    \"completion_tokens\": 497,\n",
            "    \"total_tokens\": 954\n",
            "  }\n",
            "}\n"
          ]
        }
      ],
      "source": [
        "query(MODEL_Q8_0, \"\"\"Given the text - (Glacier mass variations have a direct impact on some of the key components of the\n",
        "global water cycle, including sea level rise and freshwater availability. Apart from being\n",
        "one of the largest Himalayan glaciers, Gangotri is one of the sources of water for the\n",
        "Ganges river, which has a considerable influence on the socioeconomic structure of a\n",
        "largely over-populated catchment area accounting for ∼26% of India’s landmass. In this\n",
        "study, we present the most recent assessment of the Gangotri glacier dynamics, combin-\n",
        "ing the use of interferometric techniques on synthetic aperture radar data and sub-pixel\n",
        "offset tracking on Advanced Spaceborne Thermal Emission and Reflection Radiometer\n",
        "(ASTER) satellite imagery. Results show that on average, the Gangotri glacier snout\n",
        "has receded at a rate of 21.3 ± 3 m year−1 over a period of 6 years (2004–2010).\n",
        "While glacier surface velocity near the snout is estimated to be between 24.8 ± 2.3 and\n",
        "28.9 ± 2.3 m year−1 , interior portions of the glacier recorded velocities in the range of\n",
        "13.9 ± 2.3 to 70.2 ± 2.3 m year−1 . Further, the average glacier surface velocity in the\n",
        "northern (lower) portions (28.1 ± 2.3 m year−1 ) is observed to be significantly lower\n",
        "than in the southern (higher) portions (48.1 ± 2.3 m year−1 ) of the Gangotri glacier.\n",
        "These values are calculated with an uncertainty of less than 5 m year−1 . Results also\n",
        "highlight a consistent retreat and non-uniform dynamics of the Gangotri glacier me money)- can you identify some entities and their relationships?\"\"\")"
      ]
    }
  ],
  "metadata": {
    "kernelspec": {
      "display_name": "Python 3",
      "name": "python3"
    },
    "language_info": {
      "codemirror_mode": {
        "name": "ipython",
        "version": 3
      },
      "file_extension": ".py",
      "mimetype": "text/x-python",
      "name": "python",
      "nbconvert_exporter": "python",
      "pygments_lexer": "ipython3",
      "version": "3.11.4"
    },
    "orig_nbformat": 4,
    "colab": {
      "provenance": [],
      "machine_shape": "hm",
      "include_colab_link": true
    }
  },
  "nbformat": 4,
  "nbformat_minor": 0
}