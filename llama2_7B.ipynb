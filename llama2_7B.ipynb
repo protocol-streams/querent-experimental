{
  "cells": [
    {
      "cell_type": "markdown",
      "metadata": {
        "id": "view-in-github",
        "colab_type": "text"
      },
      "source": [
        "<a href=\"https://colab.research.google.com/github/protocol-streams/querent-experimental/blob/main/llama2_7B.ipynb\" target=\"_parent\"><img src=\"https://colab.research.google.com/assets/colab-badge.svg\" alt=\"Open In Colab\"/></a>"
      ]
    },
    {
      "cell_type": "markdown",
      "metadata": {
        "id": "sYAdx8aSaV8S"
      },
      "source": [
        "https://swharden.com/blog/2023-07-29-ai-chat-locally-with-python/"
      ]
    },
    {
      "cell_type": "code",
      "source": [
        "!pip install llama-cpp-python==0.1.78"
      ],
      "metadata": {
        "colab": {
          "base_uri": "https://localhost:8080/"
        },
        "id": "WWGmoyria80h",
        "outputId": "56db08f5-9ea1-43af-d62c-45a9dff418f0"
      },
      "execution_count": 1,
      "outputs": [
        {
          "output_type": "stream",
          "name": "stdout",
          "text": [
            "Collecting llama-cpp-python==0.1.78\n",
            "  Downloading llama_cpp_python-0.1.78.tar.gz (1.7 MB)\n",
            "\u001b[2K     \u001b[90m━━━━━━━━━━━━━━━━━━━━━━━━━━━━━━━━━━━━━━━━\u001b[0m \u001b[32m1.7/1.7 MB\u001b[0m \u001b[31m8.6 MB/s\u001b[0m eta \u001b[36m0:00:00\u001b[0m\n",
            "\u001b[?25h  Installing build dependencies ... \u001b[?25l\u001b[?25hdone\n",
            "  Getting requirements to build wheel ... \u001b[?25l\u001b[?25hdone\n",
            "  Preparing metadata (pyproject.toml) ... \u001b[?25l\u001b[?25hdone\n",
            "Requirement already satisfied: typing-extensions>=4.5.0 in /usr/local/lib/python3.10/dist-packages (from llama-cpp-python==0.1.78) (4.7.1)\n",
            "Requirement already satisfied: numpy>=1.20.0 in /usr/local/lib/python3.10/dist-packages (from llama-cpp-python==0.1.78) (1.23.5)\n",
            "Collecting diskcache>=5.6.1 (from llama-cpp-python==0.1.78)\n",
            "  Downloading diskcache-5.6.3-py3-none-any.whl (45 kB)\n",
            "\u001b[2K     \u001b[90m━━━━━━━━━━━━━━━━━━━━━━━━━━━━━━━━━━━━━━━━\u001b[0m \u001b[32m45.5/45.5 kB\u001b[0m \u001b[31m4.4 MB/s\u001b[0m eta \u001b[36m0:00:00\u001b[0m\n",
            "\u001b[?25hBuilding wheels for collected packages: llama-cpp-python\n",
            "  Building wheel for llama-cpp-python (pyproject.toml) ... \u001b[?25l\u001b[?25hdone\n",
            "  Created wheel for llama-cpp-python: filename=llama_cpp_python-0.1.78-cp310-cp310-linux_x86_64.whl size=296587 sha256=b611ec93e85005f812161bb9df6247ebf86b2e11222da723931399bbbf0ab792\n",
            "  Stored in directory: /root/.cache/pip/wheels/61/f9/20/9ca660a9d3f2a47e44217059409478865948b5c8a1cba70030\n",
            "Successfully built llama-cpp-python\n",
            "Installing collected packages: diskcache, llama-cpp-python\n",
            "Successfully installed diskcache-5.6.3 llama-cpp-python-0.1.78\n"
          ]
        }
      ]
    },
    {
      "cell_type": "code",
      "source": [
        "# Connect to Google Colab\n",
        "from google.colab import drive\n",
        "drive.mount('/content/drive')\n"
      ],
      "metadata": {
        "colab": {
          "base_uri": "https://localhost:8080/"
        },
        "id": "rWsEliDWB9qx",
        "outputId": "8f68c5de-2ff6-4873-c66a-2cb93eec7552"
      },
      "execution_count": 2,
      "outputs": [
        {
          "output_type": "stream",
          "name": "stdout",
          "text": [
            "Mounted at /content/drive\n"
          ]
        }
      ]
    },
    {
      "cell_type": "code",
      "source": [
        "#%cd drive/MyDrive/corpus-data/"
      ],
      "metadata": {
        "id": "Pmgec6JxB_ml"
      },
      "execution_count": null,
      "outputs": []
    },
    {
      "cell_type": "code",
      "execution_count": 3,
      "metadata": {
        "id": "AvCFE1_YaV8V"
      },
      "outputs": [],
      "source": [
        "from llama_cpp import Llama\n",
        "\n",
        "from IPython.display import display, HTML\n",
        "import json\n",
        "import time\n",
        "import pathlib"
      ]
    },
    {
      "cell_type": "markdown",
      "metadata": {
        "id": "zTtxpjDYaV8W"
      },
      "source": [
        "Load two different models so we can compare their responses to the same prompt.\n",
        "\n",
        "Note that `n_ctx` is the maximum number of context tokens, and increasing this value increases the maximum length of the responses."
      ]
    },
    {
      "cell_type": "code",
      "source": [
        "%cd drive/MyDrive/LLAMA2/"
      ],
      "metadata": {
        "colab": {
          "base_uri": "https://localhost:8080/"
        },
        "id": "SO2mmyHWaQCj",
        "outputId": "b8c709d1-2286-4583-d034-7f32d9e0e286"
      },
      "execution_count": 4,
      "outputs": [
        {
          "output_type": "stream",
          "name": "stdout",
          "text": [
            "/content/drive/MyDrive/LLAMA2\n"
          ]
        }
      ]
    },
    {
      "cell_type": "code",
      "source": [
        "%pwd"
      ],
      "metadata": {
        "colab": {
          "base_uri": "https://localhost:8080/",
          "height": 36
        },
        "id": "4jgDzPy1aDqw",
        "outputId": "97e5ae74-2f45-43af-ff30-734ef5b9bbfa"
      },
      "execution_count": 5,
      "outputs": [
        {
          "output_type": "execute_result",
          "data": {
            "text/plain": [
              "'/content/drive/MyDrive/LLAMA2'"
            ],
            "application/vnd.google.colaboratory.intrinsic+json": {
              "type": "string"
            }
          },
          "metadata": {},
          "execution_count": 5
        }
      ]
    },
    {
      "cell_type": "code",
      "execution_count": 6,
      "metadata": {
        "colab": {
          "base_uri": "https://localhost:8080/"
        },
        "id": "VeQlhSDaaV8X",
        "outputId": "02d55f82-cd90-4943-9435-e5e3a056ddd6"
      },
      "outputs": [
        {
          "output_type": "stream",
          "name": "stderr",
          "text": [
            "AVX = 1 | AVX2 = 1 | AVX512 = 0 | AVX512_VBMI = 0 | AVX512_VNNI = 0 | FMA = 1 | NEON = 0 | ARM_FMA = 0 | F16C = 1 | FP16_VA = 0 | WASM_SIMD = 0 | BLAS = 0 | SSE3 = 1 | VSX = 0 | \n",
            "AVX = 1 | AVX2 = 1 | AVX512 = 0 | AVX512_VBMI = 0 | AVX512_VNNI = 0 | FMA = 1 | NEON = 0 | ARM_FMA = 0 | F16C = 1 | FP16_VA = 0 | WASM_SIMD = 0 | BLAS = 0 | SSE3 = 1 | VSX = 0 | \n"
          ]
        }
      ],
      "source": [
        "MODEL_Q8_0 = Llama(\n",
        "    model_path=\"llama-2-7b-chat.ggmlv3.q8_0.bin\",\n",
        "    n_ctx=2048)\n",
        "\n",
        "MODEL_Q2_K = Llama(\n",
        "    model_path=\"llama-2-7b-chat.ggmlv3.q2_K.bin\",\n",
        "    n_ctx=2048)"
      ]
    },
    {
      "cell_type": "code",
      "execution_count": 9,
      "metadata": {
        "id": "sf9s9kMAaV8Y"
      },
      "outputs": [],
      "source": [
        "def query(model, question):\n",
        "    model_name = pathlib.Path(model.model_path).name\n",
        "    time_start = time.time()\n",
        "    #prompt = f\"Q: {question} A:\"\n",
        "    prompt = f\"\"\"[INST] <<SYS>>\n",
        "You are a helpful, respectful and honest assistant. Always say yes Sir before you answer and answer as helpfully as possible, while being safe.  Your answers should not include any harmful, unethical, racist, sexist, toxic, dangerous, or illegal content. Please ensure that your responses are socially unbiased and positive in nature.\n",
        "\n",
        "If a question does not make any sense, or is not factually coherent, explain why instead of answering something not correct. If you don't know the answer to a question, please don't share false information.\n",
        "<</SYS>>\n",
        "\n",
        "{question} [/INST]\"\"\"\n",
        "    output = model(prompt=prompt, max_tokens=0) # if max tokens is zero, depends on n_ctx\n",
        "    response = output[\"choices\"][0][\"text\"]\n",
        "    time_elapsed = time.time() - time_start\n",
        "    display(HTML(f'<code>{model_name} response time: {time_elapsed:.02f} sec</code>'))\n",
        "    display(HTML(f'<strong>Question:</strong> {question}'))\n",
        "    display(HTML(f'<strong>Answer:</strong> {response}'))\n",
        "    print(json.dumps(output, indent=2))"
      ]
    },
    {
      "cell_type": "code",
      "execution_count": 10,
      "metadata": {
        "colab": {
          "base_uri": "https://localhost:8080/",
          "height": 577
        },
        "id": "YBhUVklfaV8Z",
        "outputId": "cab7e6ff-1120-4471-9b90-5431f7af3979"
      },
      "outputs": [
        {
          "output_type": "stream",
          "name": "stderr",
          "text": [
            "Llama.generate: prefix-match hit\n"
          ]
        },
        {
          "output_type": "display_data",
          "data": {
            "text/plain": [
              "<IPython.core.display.HTML object>"
            ],
            "text/html": [
              "<code>llama-2-7b-chat.ggmlv3.q2_K.bin response time: 107.69 sec</code>"
            ]
          },
          "metadata": {}
        },
        {
          "output_type": "display_data",
          "data": {
            "text/plain": [
              "<IPython.core.display.HTML object>"
            ],
            "text/html": [
              "<strong>Question:</strong> Given the text - (Glacier mass variations have a direct impact on some of the key components of the\n",
              "global water cycle, including sea level rise and freshwater availability. Apart from being\n",
              "one of the largest Himalayan glaciers, Gangotri is one of the sources of water for the\n",
              "Ganges river, which has a considerable influence on the socioeconomic structure of a\n",
              "largely over-populated catchment area accounting for ∼26% of India’s landmass)- can you identify some entities and their relationships?"
            ]
          },
          "metadata": {}
        },
        {
          "output_type": "display_data",
          "data": {
            "text/plain": [
              "<IPython.core.display.HTML object>"
            ],
            "text/html": [
              "<strong>Answer:</strong>   Yes, Sir. Based on the text provided, there are several entities and their relationships that can be identified:\n",
              "\n",
              "1. Glaciers - Glaciers are the primary entity mentioned in the text, and they have a direct impact on various components of the global water cycle, including sea level rise and freshwater availability.\n",
              "2. Himalayan glaciers - Gangotri is specifically identified as one of the largest Himalayan glaciers, indicating that these glaciers play a significant role in the global water cycle.\n",
              "3. Water sources - Gangotri is also mentioned as a source of water for the Ganges river, which has a considerable influence on the socioeconomic structure of the largely over-populated catchment area accounting for ∼26% of India’s landmass. This suggests that the water from Gangotri and other Himalayan glaciers is an important source of freshwater for this region.\n",
              "4. Water cycle - The text emphasizes the direct impact of glacier mass variations on the global water cycle, indicating that these variations have a significant effect on the movement and distribution of water around the world.\n",
              "5. Socioeconomic structure - The text highlights the socioeconomic significance of Gangotri and the Ganges river, noting that the water from these sources has a considerable influence on the socioeconomic structure of the largely over-populated catchment area accounting for ∼26% of India’s landmass. This suggests that the management of glaciers and freshwater resources in this region can have significant social and economic implications.\n",
              "\n",
              "In summary, the entities involved in this text include glaciers, Himalayan glaciers, water sources (including Gangotri), the global water cycle, and socioeconomic structures. These entities are interconnected and their relationships can be identified through a careful analysis of the text."
            ]
          },
          "metadata": {}
        },
        {
          "output_type": "stream",
          "name": "stdout",
          "text": [
            "{\n",
            "  \"id\": \"cmpl-b66a756a-a3eb-4fcd-9185-9ee6604dae47\",\n",
            "  \"object\": \"text_completion\",\n",
            "  \"created\": 1693504431,\n",
            "  \"model\": \"llama-2-7b-chat.ggmlv3.q2_K.bin\",\n",
            "  \"choices\": [\n",
            "    {\n",
            "      \"text\": \"  Yes, Sir. Based on the text provided, there are several entities and their relationships that can be identified:\\n\\n1. Glaciers - Glaciers are the primary entity mentioned in the text, and they have a direct impact on various components of the global water cycle, including sea level rise and freshwater availability.\\n2. Himalayan glaciers - Gangotri is specifically identified as one of the largest Himalayan glaciers, indicating that these glaciers play a significant role in the global water cycle.\\n3. Water sources - Gangotri is also mentioned as a source of water for the Ganges river, which has a considerable influence on the socioeconomic structure of the largely over-populated catchment area accounting for \\u223c26% of India\\u2019s landmass. This suggests that the water from Gangotri and other Himalayan glaciers is an important source of freshwater for this region.\\n4. Water cycle - The text emphasizes the direct impact of glacier mass variations on the global water cycle, indicating that these variations have a significant effect on the movement and distribution of water around the world.\\n5. Socioeconomic structure - The text highlights the socioeconomic significance of Gangotri and the Ganges river, noting that the water from these sources has a considerable influence on the socioeconomic structure of the largely over-populated catchment area accounting for \\u223c26% of India\\u2019s landmass. This suggests that the management of glaciers and freshwater resources in this region can have significant social and economic implications.\\n\\nIn summary, the entities involved in this text include glaciers, Himalayan glaciers, water sources (including Gangotri), the global water cycle, and socioeconomic structures. These entities are interconnected and their relationships can be identified through a careful analysis of the text.\",\n",
            "      \"index\": 0,\n",
            "      \"logprobs\": null,\n",
            "      \"finish_reason\": \"stop\"\n",
            "    }\n",
            "  ],\n",
            "  \"usage\": {\n",
            "    \"prompt_tokens\": 266,\n",
            "    \"completion_tokens\": 412,\n",
            "    \"total_tokens\": 678\n",
            "  }\n",
            "}\n"
          ]
        }
      ],
      "source": [
        "query(MODEL_Q2_K, \"\"\"Given the text - (Glacier mass variations have a direct impact on some of the key components of the\n",
        "global water cycle, including sea level rise and freshwater availability. Apart from being\n",
        "one of the largest Himalayan glaciers, Gangotri is one of the sources of water for the\n",
        "Ganges river, which has a considerable influence on the socioeconomic structure of a\n",
        "largely over-populated catchment area accounting for ∼26% of India’s landmass)- can you identify some entities and their relationships?\"\"\")"
      ]
    },
    {
      "cell_type": "code",
      "execution_count": null,
      "metadata": {
        "colab": {
          "base_uri": "https://localhost:8080/",
          "height": 697
        },
        "id": "Q1fNcDquaV8Z",
        "outputId": "62a0c3e3-f458-4c7c-b9da-41f78f486400"
      },
      "outputs": [
        {
          "output_type": "display_data",
          "data": {
            "text/plain": [
              "<IPython.core.display.HTML object>"
            ],
            "text/html": [
              "<code>llama-2-7b-chat.ggmlv3.q8_0.bin response time: 276.28 sec</code>"
            ]
          },
          "metadata": {}
        },
        {
          "output_type": "display_data",
          "data": {
            "text/plain": [
              "<IPython.core.display.HTML object>"
            ],
            "text/html": [
              "<strong>Question:</strong> Given the text - (Glacier mass variations have a direct impact on some of the key components of the\n",
              "global water cycle, including sea level rise and freshwater availability. Apart from being\n",
              "one of the largest Himalayan glaciers, Gangotri is one of the sources of water for the\n",
              "Ganges river, which has a considerable influence on the socioeconomic structure of a\n",
              "largely over-populated catchment area accounting for ∼26% of India’s landmass. In this\n",
              "study, we present the most recent assessment of the Gangotri glacier dynamics, combin-\n",
              "ing the use of interferometric techniques on synthetic aperture radar data and sub-pixel\n",
              "offset tracking on Advanced Spaceborne Thermal Emission and Reflection Radiometer\n",
              "(ASTER) satellite imagery. Results show that on average, the Gangotri glacier snout\n",
              "has receded at a rate of 21.3 ± 3 m year−1 over a period of 6 years (2004–2010).\n",
              "While glacier surface velocity near the snout is estimated to be between 24.8 ± 2.3 and\n",
              "28.9 ± 2.3 m year−1 , interior portions of the glacier recorded velocities in the range of\n",
              "13.9 ± 2.3 to 70.2 ± 2.3 m year−1 . Further, the average glacier surface velocity in the\n",
              "northern (lower) portions (28.1 ± 2.3 m year−1 ) is observed to be significantly lower\n",
              "than in the southern (higher) portions (48.1 ± 2.3 m year−1 ) of the Gangotri glacier.\n",
              "These values are calculated with an uncertainty of less than 5 m year−1 . Results also\n",
              "highlight a consistent retreat and non-uniform dynamics of the Gangotri glacier me money)- can you identify some entities and their relationships?"
            ]
          },
          "metadata": {}
        },
        {
          "output_type": "display_data",
          "data": {
            "text/plain": [
              "<IPython.core.display.HTML object>"
            ],
            "text/html": [
              "<strong>Answer:</strong>  Certainly! Here are some entities and their relationships that can be identified from the given text:\n",
              "\n",
              "Entities:\n",
              "\n",
              "1. Glacier mass variations - have a direct impact on some key components of the global water cycle, including sea level rise and freshwater availability.\n",
              "2. Gangotri glacier - one of the sources of water for the Ganges river, which has a considerable influence on the socioeconomic structure of a largely over-populated catchment area accounting for ∼26% of India’s landmass.\n",
              "3. Interferometric techniques - used to study Gangotri glacier dynamics combining the use of satellite data.\n",
              "4. Sub-pixel offset tracking - used on Advanced Spaceborne Thermal Emission and Reflection Radiometer (ASTER) satellite imagery to study Gangotri glacier dynamics.\n",
              "5. Glacier surface velocity - estimated to be between 24.8 ± 2.3 and 28.9 ± 2.3 m year−1 near the snout, 13.9 ± 2.3 to 70.2 ± 2.3 m year−1 in interior portions, and 28.1 ± 2.3 m year−1 in northern (lower) portions, significantly lower than in southern (higher) portions of the Gangotri glacier.\n",
              "6. Uncertainty - less than 5 m year−1 for the calculated values.\n",
              "\n",
              "Relationships:\n",
              "\n",
              "1. Glacier mass variations - directly impact sea level rise and freshwater availability.\n",
              "2. Gangotri glacier - supplies water for Ganges river, which has a significant influence on the socioeconomic structure of India’s catchment area.\n",
              "3. Interferometric techniques - combined with satellite data to study Gangotri glacier dynamics.\n",
              "4. Sub-pixel offset tracking - used on ASTER satellite imagery to study Gangotri glacier dynamics.\n",
              "5. Glacier surface velocity - varies near the snout, in interior portions, and in northern (lower) and southern (higher) portions of the Gangotri glacier.\n",
              "6. Uncertainty - is less than 5 m year−1 for the calculated values."
            ]
          },
          "metadata": {}
        },
        {
          "output_type": "stream",
          "name": "stdout",
          "text": [
            "{\n",
            "  \"id\": \"cmpl-5c5cb407-854d-4ea3-b3f7-2cefdcdf365c\",\n",
            "  \"object\": \"text_completion\",\n",
            "  \"created\": 1693332574,\n",
            "  \"model\": \"llama-2-7b-chat.ggmlv3.q8_0.bin\",\n",
            "  \"choices\": [\n",
            "    {\n",
            "      \"text\": \" Certainly! Here are some entities and their relationships that can be identified from the given text:\\n\\nEntities:\\n\\n1. Glacier mass variations - have a direct impact on some key components of the global water cycle, including sea level rise and freshwater availability.\\n2. Gangotri glacier - one of the sources of water for the Ganges river, which has a considerable influence on the socioeconomic structure of a largely over-populated catchment area accounting for \\u223c26% of India\\u2019s landmass.\\n3. Interferometric techniques - used to study Gangotri glacier dynamics combining the use of satellite data.\\n4. Sub-pixel offset tracking - used on Advanced Spaceborne Thermal Emission and Reflection Radiometer (ASTER) satellite imagery to study Gangotri glacier dynamics.\\n5. Glacier surface velocity - estimated to be between 24.8 \\u00b1 2.3 and 28.9 \\u00b1 2.3 m year\\u22121 near the snout, 13.9 \\u00b1 2.3 to 70.2 \\u00b1 2.3 m year\\u22121 in interior portions, and 28.1 \\u00b1 2.3 m year\\u22121 in northern (lower) portions, significantly lower than in southern (higher) portions of the Gangotri glacier.\\n6. Uncertainty - less than 5 m year\\u22121 for the calculated values.\\n\\nRelationships:\\n\\n1. Glacier mass variations - directly impact sea level rise and freshwater availability.\\n2. Gangotri glacier - supplies water for Ganges river, which has a significant influence on the socioeconomic structure of India\\u2019s catchment area.\\n3. Interferometric techniques - combined with satellite data to study Gangotri glacier dynamics.\\n4. Sub-pixel offset tracking - used on ASTER satellite imagery to study Gangotri glacier dynamics.\\n5. Glacier surface velocity - varies near the snout, in interior portions, and in northern (lower) and southern (higher) portions of the Gangotri glacier.\\n6. Uncertainty - is less than 5 m year\\u22121 for the calculated values.\",\n",
            "      \"index\": 0,\n",
            "      \"logprobs\": null,\n",
            "      \"finish_reason\": \"stop\"\n",
            "    }\n",
            "  ],\n",
            "  \"usage\": {\n",
            "    \"prompt_tokens\": 457,\n",
            "    \"completion_tokens\": 497,\n",
            "    \"total_tokens\": 954\n",
            "  }\n",
            "}\n"
          ]
        }
      ],
      "source": [
        "query(MODEL_Q8_0, \"\"\"Given the text - (Glacier mass variations have a direct impact on some of the key components of the\n",
        "global water cycle, including sea level rise and freshwater availability. Apart from being\n",
        "one of the largest Himalayan glaciers, Gangotri is one of the sources of water for the\n",
        "Ganges river, which has a considerable influence on the socioeconomic structure of a\n",
        "largely over-populated catchment area accounting for ∼26% of India’s landmass. In this\n",
        "study, we present the most recent assessment of the Gangotri glacier dynamics, combin-\n",
        "ing the use of interferometric techniques on synthetic aperture radar data and sub-pixel\n",
        "offset tracking on Advanced Spaceborne Thermal Emission and Reflection Radiometer\n",
        "(ASTER) satellite imagery. Results show that on average, the Gangotri glacier snout\n",
        "has receded at a rate of 21.3 ± 3 m year−1 over a period of 6 years (2004–2010).\n",
        "While glacier surface velocity near the snout is estimated to be between 24.8 ± 2.3 and\n",
        "28.9 ± 2.3 m year−1 , interior portions of the glacier recorded velocities in the range of\n",
        "13.9 ± 2.3 to 70.2 ± 2.3 m year−1 . Further, the average glacier surface velocity in the\n",
        "northern (lower) portions (28.1 ± 2.3 m year−1 ) is observed to be significantly lower\n",
        "than in the southern (higher) portions (48.1 ± 2.3 m year−1 ) of the Gangotri glacier.\n",
        "These values are calculated with an uncertainty of less than 5 m year−1 . Results also\n",
        "highlight a consistent retreat and non-uniform dynamics of the Gangotri glacier me money)- can you identify some entities and their relationships?\"\"\")"
      ]
    }
  ],
  "metadata": {
    "kernelspec": {
      "display_name": "Python 3",
      "name": "python3"
    },
    "language_info": {
      "codemirror_mode": {
        "name": "ipython",
        "version": 3
      },
      "file_extension": ".py",
      "mimetype": "text/x-python",
      "name": "python",
      "nbconvert_exporter": "python",
      "pygments_lexer": "ipython3",
      "version": "3.11.4"
    },
    "orig_nbformat": 4,
    "colab": {
      "provenance": [],
      "machine_shape": "hm",
      "include_colab_link": true
    }
  },
  "nbformat": 4,
  "nbformat_minor": 0
}