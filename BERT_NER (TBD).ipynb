{
  "nbformat": 4,
  "nbformat_minor": 0,
  "metadata": {
    "colab": {
      "provenance": [],
      "authorship_tag": "ABX9TyPexRH6ENbjwzLQZ6Q+0zU3",
      "include_colab_link": true
    },
    "kernelspec": {
      "name": "python3",
      "display_name": "Python 3"
    },
    "language_info": {
      "name": "python"
    }
  },
  "cells": [
    {
      "cell_type": "markdown",
      "metadata": {
        "id": "view-in-github",
        "colab_type": "text"
      },
      "source": [
        "<a href=\"https://colab.research.google.com/github/protocol-streams/querent-experimental/blob/main/BERT_NER%20(TBD).ipynb\" target=\"_parent\"><img src=\"https://colab.research.google.com/assets/colab-badge.svg\" alt=\"Open In Colab\"/></a>"
      ]
    },
    {
      "cell_type": "code",
      "execution_count": null,
      "metadata": {
        "id": "V6NjshMiBKZy"
      },
      "outputs": [],
      "source": [
        "!pip install transformers"
      ]
    },
    {
      "cell_type": "code",
      "source": [
        "# Import necessary libraries\n",
        "from transformers import pipeline\n",
        "\n",
        "# Define the pipeline\n",
        "nlp = pipeline(\"ner\", model=\"dbmdz/bert-large-cased-finetuned-conll03-english\")\n",
        "\n",
        "# Define the text\n",
        "text = \"Google LLC is an American multinational technology company that specializes in Internet-related services and products. These include online advertising technologies, search, cloud computing, software, and hardware.\"\n",
        "\n",
        "# Use the pipeline to extract entities\n",
        "ner_results = nlp(text)\n",
        "\n",
        "# Print the extracted entities\n",
        "for entity in ner_results:\n",
        "    print(f\"Entity: {entity['entity']}, Value: {entity['word']}\")\n"
      ],
      "metadata": {
        "colab": {
          "base_uri": "https://localhost:8080/"
        },
        "id": "2bXzLYWsBmWn",
        "outputId": "c20caf6e-6ba2-434e-e04a-79a1bcda9f8c"
      },
      "execution_count": 4,
      "outputs": [
        {
          "output_type": "stream",
          "name": "stderr",
          "text": [
            "Some weights of the model checkpoint at dbmdz/bert-large-cased-finetuned-conll03-english were not used when initializing BertForTokenClassification: ['bert.pooler.dense.bias', 'bert.pooler.dense.weight']\n",
            "- This IS expected if you are initializing BertForTokenClassification from the checkpoint of a model trained on another task or with another architecture (e.g. initializing a BertForSequenceClassification model from a BertForPreTraining model).\n",
            "- This IS NOT expected if you are initializing BertForTokenClassification from the checkpoint of a model that you expect to be exactly identical (initializing a BertForSequenceClassification model from a BertForSequenceClassification model).\n"
          ]
        },
        {
          "output_type": "stream",
          "name": "stdout",
          "text": [
            "Entity: I-ORG, Value: Google\n",
            "Entity: I-ORG, Value: LLC\n",
            "Entity: I-MISC, Value: American\n",
            "Entity: I-MISC, Value: Internet\n"
          ]
        }
      ]
    },
    {
      "cell_type": "code",
      "source": [
        "# Import necessary libraries\n",
        "from transformers import pipeline\n",
        "\n",
        "# Define the pipeline\n",
        "nlp = pipeline(\"ner\", model=\"dbmdz/bert-large-cased-finetuned-conll03-english\")\n",
        "\n",
        "# Define the text\n",
        "text = \" I am eating apple inside Google LLC\"\n",
        "\n",
        "# Use the pipeline to extract entities\n",
        "ner_results = nlp(text)\n",
        "\n",
        "# Print the extracted entities\n",
        "for entity in ner_results:\n",
        "    print(f\"Entity: {entity['entity']}, Value: {entity['word']}\")"
      ],
      "metadata": {
        "colab": {
          "base_uri": "https://localhost:8080/"
        },
        "id": "qGrylQAeEUvX",
        "outputId": "597e3013-7d0a-455f-8bbb-918162e8178e"
      },
      "execution_count": 6,
      "outputs": [
        {
          "output_type": "stream",
          "name": "stderr",
          "text": [
            "Some weights of the model checkpoint at dbmdz/bert-large-cased-finetuned-conll03-english were not used when initializing BertForTokenClassification: ['bert.pooler.dense.bias', 'bert.pooler.dense.weight']\n",
            "- This IS expected if you are initializing BertForTokenClassification from the checkpoint of a model trained on another task or with another architecture (e.g. initializing a BertForSequenceClassification model from a BertForPreTraining model).\n",
            "- This IS NOT expected if you are initializing BertForTokenClassification from the checkpoint of a model that you expect to be exactly identical (initializing a BertForSequenceClassification model from a BertForSequenceClassification model).\n"
          ]
        },
        {
          "output_type": "stream",
          "name": "stdout",
          "text": [
            "Entity: I-ORG, Value: Google\n",
            "Entity: I-ORG, Value: LLC\n"
          ]
        }
      ]
    },
    {
      "cell_type": "code",
      "source": [
        "from google.colab import drive\n",
        "drive.mount('/content/drive')"
      ],
      "metadata": {
        "colab": {
          "base_uri": "https://localhost:8080/"
        },
        "id": "MbRPkhxvE0kz",
        "outputId": "5d1998f8-8f6e-4888-a3bc-4e9f27d7b85c"
      },
      "execution_count": 1,
      "outputs": [
        {
          "output_type": "stream",
          "name": "stdout",
          "text": [
            "Drive already mounted at /content/drive; to attempt to forcibly remount, call drive.mount(\"/content/drive\", force_remount=True).\n"
          ]
        }
      ]
    },
    {
      "cell_type": "code",
      "source": [
        "%cd drive/MyDrive/corpus-data/"
      ],
      "metadata": {
        "colab": {
          "base_uri": "https://localhost:8080/"
        },
        "id": "xrkR8fp6FHRr",
        "outputId": "a994e5c8-cedf-482c-c7da-d9703960144c"
      },
      "execution_count": 2,
      "outputs": [
        {
          "output_type": "stream",
          "name": "stdout",
          "text": [
            "/content/drive/MyDrive/corpus-data\n"
          ]
        }
      ]
    },
    {
      "cell_type": "code",
      "source": [
        "\n",
        "import pandas as pd\n",
        "import numpy as np\n",
        "import matplotlib.pyplot as plt\n",
        "plt.style.use(\"ggplot\")\n",
        "\n",
        "data = pd.read_csv(\"ner_dataset.csv\", encoding=\"latin1\")\n",
        "data = data.drop(['POS'], axis =1) #dont need parts of speech tags\n",
        "data = data.fillna(method=\"ffill\")\n",
        "#data.tail(30)"
      ],
      "metadata": {
        "id": "ERB6npLOE-hF"
      },
      "execution_count": 3,
      "outputs": []
    },
    {
      "cell_type": "code",
      "source": [
        "'''\n",
        "geo = Geographical Entity\n",
        "org = Organization\n",
        "per = Person\n",
        "gpe = Geopolitical Entity\n",
        "tim = Time indicator\n",
        "art = Artifact\n",
        "eve = Event\n",
        "nat = Natural Phenomenon\n",
        "'''\n",
        "data['Tag'].value_counts()"
      ],
      "metadata": {
        "colab": {
          "base_uri": "https://localhost:8080/"
        },
        "id": "rE2oMHk_FP4U",
        "outputId": "3a4dd0ce-cba2-4c21-d950-77599394fb5f"
      },
      "execution_count": 12,
      "outputs": [
        {
          "output_type": "execute_result",
          "data": {
            "text/plain": [
              "O        887908\n",
              "B-geo     37644\n",
              "B-tim     20333\n",
              "B-org     20143\n",
              "I-per     17251\n",
              "B-per     16990\n",
              "I-org     16784\n",
              "B-gpe     15870\n",
              "I-geo      7414\n",
              "I-tim      6528\n",
              "B-art       402\n",
              "B-eve       308\n",
              "I-art       297\n",
              "I-eve       253\n",
              "B-nat       201\n",
              "I-gpe       198\n",
              "I-nat        51\n",
              "Name: Tag, dtype: int64"
            ]
          },
          "metadata": {},
          "execution_count": 12
        }
      ]
    },
    {
      "cell_type": "code",
      "source": [
        "#data['Sentence #'].value_counts()\n",
        "words = set(list(data['Word'].values))\n",
        "words.add('PADword')\n",
        "n_words = len(words)\n",
        "n_words\n",
        "tags = list(set(data[\"Tag\"].values))\n",
        "n_tags = len(tags)\n",
        "n_tags"
      ],
      "metadata": {
        "colab": {
          "base_uri": "https://localhost:8080/"
        },
        "id": "E2_F1AU0FUJK",
        "outputId": "6498eb51-d12a-4fb6-e7f9-542fb4cb3f42"
      },
      "execution_count": 4,
      "outputs": [
        {
          "output_type": "execute_result",
          "data": {
            "text/plain": [
              "17"
            ]
          },
          "metadata": {},
          "execution_count": 4
        }
      ]
    },
    {
      "cell_type": "code",
      "source": [
        "class SentenceGetter(object):\n",
        "\n",
        "    def __init__(self, data):\n",
        "        self.n_sent = 1\n",
        "        self.data = data\n",
        "        self.empty = False\n",
        "        agg_func = lambda s: [(w, t) for w, t in zip(s[\"Word\"].values.tolist(),s[\"Tag\"].values.tolist())]\n",
        "        self.grouped = self.data.groupby(\"Sentence #\").apply(agg_func)\n",
        "        self.sentences = [s for s in self.grouped]\n",
        "\n",
        "    def get_next(self):\n",
        "        try:\n",
        "            s = self.grouped[\"Sentence: {}\".format(self.n_sent)]\n",
        "            self.n_sent += 1\n",
        "            return s\n",
        "        except:\n",
        "            return None"
      ],
      "metadata": {
        "id": "eZZ9cz-wFcrA"
      },
      "execution_count": 5,
      "outputs": []
    },
    {
      "cell_type": "code",
      "source": [
        "getter = SentenceGetter(data)\n",
        "sent = getter.get_next()\n",
        "for i in sent:\n",
        "  print(i)"
      ],
      "metadata": {
        "colab": {
          "base_uri": "https://localhost:8080/"
        },
        "id": "_5zOEG-0FftJ",
        "outputId": "a104b44b-4f4b-456d-e8cb-c9e180476c78"
      },
      "execution_count": 6,
      "outputs": [
        {
          "output_type": "stream",
          "name": "stdout",
          "text": [
            "('Thousands', 'O')\n",
            "('of', 'O')\n",
            "('demonstrators', 'O')\n",
            "('have', 'O')\n",
            "('marched', 'O')\n",
            "('through', 'O')\n",
            "('London', 'B-geo')\n",
            "('to', 'O')\n",
            "('protest', 'O')\n",
            "('the', 'O')\n",
            "('war', 'O')\n",
            "('in', 'O')\n",
            "('Iraq', 'B-geo')\n",
            "('and', 'O')\n",
            "('demand', 'O')\n",
            "('the', 'O')\n",
            "('withdrawal', 'O')\n",
            "('of', 'O')\n",
            "('British', 'B-gpe')\n",
            "('troops', 'O')\n",
            "('from', 'O')\n",
            "('that', 'O')\n",
            "('country', 'O')\n",
            "('.', 'O')\n"
          ]
        }
      ]
    },
    {
      "cell_type": "code",
      "source": [
        "sentences = getter.sentences\n",
        "print(len(sentences))\n",
        "largest_sen = max(len(sen) for sen in sentences)\n",
        "print('biggest sentence has {} words'.format(largest_sen))\n",
        "words2index = {w:i for i,w in enumerate(words)}\n",
        "tags2index = {t:i for i,t in enumerate(tags)}\n",
        "print(words2index['London'])\n",
        "print(tags2index['B-geo'])\n",
        "max_len = 50\n",
        "X = [[w[0] for w in s] for s in sentences]\n",
        "new_X = []\n",
        "for seq in X:\n",
        "    new_seq = []\n",
        "    for i in range(max_len):\n",
        "        try:\n",
        "            new_seq.append(seq[i])\n",
        "        except:\n",
        "            new_seq.append(\"PADword\")\n",
        "    new_X.append(new_seq)\n",
        "new_X[15]"
      ],
      "metadata": {
        "colab": {
          "base_uri": "https://localhost:8080/"
        },
        "id": "7yKsogC9Fl4z",
        "outputId": "10da2316-4a83-4555-c1ee-ffcae75abd11"
      },
      "execution_count": 7,
      "outputs": [
        {
          "output_type": "stream",
          "name": "stdout",
          "text": [
            "47959\n",
            "biggest sentence has 104 words\n",
            "5461\n",
            "4\n"
          ]
        },
        {
          "output_type": "execute_result",
          "data": {
            "text/plain": [
              "['Israeli',\n",
              " 'officials',\n",
              " 'say',\n",
              " 'Prime',\n",
              " 'Minister',\n",
              " 'Ariel',\n",
              " 'Sharon',\n",
              " 'will',\n",
              " 'undergo',\n",
              " 'a',\n",
              " 'medical',\n",
              " 'procedure',\n",
              " 'Thursday',\n",
              " 'to',\n",
              " 'close',\n",
              " 'a',\n",
              " 'tiny',\n",
              " 'hole',\n",
              " 'in',\n",
              " 'his',\n",
              " 'heart',\n",
              " 'discovered',\n",
              " 'during',\n",
              " 'treatment',\n",
              " 'for',\n",
              " 'a',\n",
              " 'minor',\n",
              " 'stroke',\n",
              " 'suffered',\n",
              " 'last',\n",
              " 'month',\n",
              " '.',\n",
              " 'PADword',\n",
              " 'PADword',\n",
              " 'PADword',\n",
              " 'PADword',\n",
              " 'PADword',\n",
              " 'PADword',\n",
              " 'PADword',\n",
              " 'PADword',\n",
              " 'PADword',\n",
              " 'PADword',\n",
              " 'PADword',\n",
              " 'PADword',\n",
              " 'PADword',\n",
              " 'PADword',\n",
              " 'PADword',\n",
              " 'PADword',\n",
              " 'PADword',\n",
              " 'PADword']"
            ]
          },
          "metadata": {},
          "execution_count": 7
        }
      ]
    },
    {
      "cell_type": "code",
      "source": [
        "#from tensorflow import keras\n",
        "from tensorflow.keras.preprocessing.sequence import pad_sequences\n",
        "y = [[tags2index[w[1]] for w in s] for s in sentences]\n",
        "y = pad_sequences(maxlen=max_len, sequences=y, padding=\"post\", value=tags2index[\"O\"])\n",
        "y[15]\n",
        "from sklearn.model_selection import train_test_split\n",
        "X_tr, X_te, y_tr, y_te = train_test_split(new_X, y, test_size=0.1, random_state=2021)\n"
      ],
      "metadata": {
        "id": "tWp4WMCnFz97"
      },
      "execution_count": 8,
      "outputs": []
    },
    {
      "cell_type": "code",
      "source": [
        "!pip install tensorflow==2.13.0\n",
        "!pip install \"tensorflow_hub>=0.6.0\"\n",
        "!pip3 install tensorflow_text==2.13.0"
      ],
      "metadata": {
        "id": "hnGK1sHIF9Oz"
      },
      "execution_count": null,
      "outputs": []
    },
    {
      "cell_type": "code",
      "source": [
        "import tensorflow as tf1\n",
        "print(tf1.__version__)"
      ],
      "metadata": {
        "colab": {
          "base_uri": "https://localhost:8080/"
        },
        "id": "Z3SQPh-HHSux",
        "outputId": "97cba72b-c1b7-4695-aeaa-1e00c2dce81f"
      },
      "execution_count": 9,
      "outputs": [
        {
          "output_type": "stream",
          "name": "stdout",
          "text": [
            "2.13.0\n"
          ]
        }
      ]
    },
    {
      "cell_type": "code",
      "source": [
        "import tensorflow as tf\n",
        "import tensorflow_hub as hub\n",
        "\n",
        "print(\"TF version:\", tf.__version__)\n",
        "print(\"Hub version:\", hub.__version__)\n"
      ],
      "metadata": {
        "colab": {
          "base_uri": "https://localhost:8080/"
        },
        "id": "pimuW0xkHiEd",
        "outputId": "e61ca9d4-5d39-4bb8-96af-6b2311bfe01d"
      },
      "execution_count": 10,
      "outputs": [
        {
          "output_type": "stream",
          "name": "stdout",
          "text": [
            "TF version: 2.13.0\n",
            "Hub version: 0.14.0\n"
          ]
        }
      ]
    },
    {
      "cell_type": "code",
      "source": [
        "import tensorflow as tf\n",
        "import tensorflow_hub as hub\n",
        "import numpy as np\n",
        "\n",
        "batch_size = 32\n",
        "\n",
        "# Assuming X_tr and y_tr are already defined, we can slice them directly\n",
        "X_tr, X_val = X_tr[:1213*batch_size], X_tr[-135*batch_size:]\n",
        "y_tr, y_val = y_tr[:1213*batch_size], y_tr[-135*batch_size:]\n",
        "y_tr = y_tr.reshape(y_tr.shape[0], y_tr.shape[1], 1)\n",
        "y_val = y_val.reshape(y_val.shape[0], y_val.shape[1], 1)\n",
        "\n",
        "#elmo_model = hub.KerasLayer(\"https://tfhub.dev/google/elmo/2\", trainable=True)\n",
        "\n",
        "# In TF2.x, there's no need to manually initialize variables like in TF1.x\n",
        "\n"
      ],
      "metadata": {
        "id": "6jyDW2m8HV_P"
      },
      "execution_count": 11,
      "outputs": []
    },
    {
      "cell_type": "code",
      "source": [
        "elmo_model = hub.KerasLayer(\"https://tfhub.dev/google/elmo/3\", trainable=False)\n",
        "\n",
        "def ElmoEmbedding(x):\n",
        "    return elmo_model(tf.squeeze(tf.cast(x, tf.string)))\n",
        "\n",
        "from tensorflow.keras.models import Model\n",
        "from tensorflow.keras.layers import Input, Lambda, Bidirectional, LSTM, Dense, TimeDistributed, Dropout, Add\n",
        "\n",
        "input_text = Input(shape=(max_len,), dtype=tf.string)\n",
        "embedding = Lambda(ElmoEmbedding, output_shape=(1024,))(input_text)\n",
        "x = Dense(units=512, activation='relu')(embedding)\n",
        "out = Dense(n_tags, activation=\"softmax\")(x)\n",
        "model = Model(input_text, out)\n",
        "\n",
        "\n"
      ],
      "metadata": {
        "colab": {
          "base_uri": "https://localhost:8080/"
        },
        "id": "4NcrE_CdJTDK",
        "outputId": "82be288f-4abc-40ea-a19c-5ed10e7a114f"
      },
      "execution_count": 22,
      "outputs": [
        {
          "output_type": "stream",
          "name": "stderr",
          "text": [
            "WARNING:tensorflow:\n",
            "The following Variables were used a Lambda layer's call (lambda_6), but\n",
            "are not present in its tracked objects:\n",
            "  <tf.Variable 'bilm/char_embed:0' shape=(261, 16) dtype=float32>\n",
            "  <tf.Variable 'bilm/CNN/W_cnn_0:0' shape=(1, 1, 16, 32) dtype=float32>\n",
            "  <tf.Variable 'bilm/CNN/b_cnn_0:0' shape=(32,) dtype=float32>\n",
            "  <tf.Variable 'bilm/CNN/W_cnn_1:0' shape=(1, 2, 16, 32) dtype=float32>\n",
            "  <tf.Variable 'bilm/CNN/b_cnn_1:0' shape=(32,) dtype=float32>\n",
            "  <tf.Variable 'bilm/CNN/W_cnn_2:0' shape=(1, 3, 16, 64) dtype=float32>\n",
            "  <tf.Variable 'bilm/CNN/b_cnn_2:0' shape=(64,) dtype=float32>\n",
            "  <tf.Variable 'bilm/CNN/W_cnn_3:0' shape=(1, 4, 16, 128) dtype=float32>\n",
            "  <tf.Variable 'bilm/CNN/b_cnn_3:0' shape=(128,) dtype=float32>\n",
            "  <tf.Variable 'bilm/CNN/W_cnn_4:0' shape=(1, 5, 16, 256) dtype=float32>\n",
            "  <tf.Variable 'bilm/CNN/b_cnn_4:0' shape=(256,) dtype=float32>\n",
            "  <tf.Variable 'bilm/CNN/W_cnn_5:0' shape=(1, 6, 16, 512) dtype=float32>\n",
            "  <tf.Variable 'bilm/CNN/b_cnn_5:0' shape=(512,) dtype=float32>\n",
            "  <tf.Variable 'bilm/CNN/W_cnn_6:0' shape=(1, 7, 16, 1024) dtype=float32>\n",
            "  <tf.Variable 'bilm/CNN/b_cnn_6:0' shape=(1024,) dtype=float32>\n",
            "  <tf.Variable 'bilm/CNN_high_0/W_carry:0' shape=(2048, 2048) dtype=float32>\n",
            "  <tf.Variable 'bilm/CNN_high_0/b_carry:0' shape=(2048,) dtype=float32>\n",
            "  <tf.Variable 'bilm/CNN_high_0/W_transform:0' shape=(2048, 2048) dtype=float32>\n",
            "  <tf.Variable 'bilm/CNN_high_0/b_transform:0' shape=(2048,) dtype=float32>\n",
            "  <tf.Variable 'bilm/CNN_high_1/W_carry:0' shape=(2048, 2048) dtype=float32>\n",
            "  <tf.Variable 'bilm/CNN_high_1/b_carry:0' shape=(2048,) dtype=float32>\n",
            "  <tf.Variable 'bilm/CNN_high_1/W_transform:0' shape=(2048, 2048) dtype=float32>\n",
            "  <tf.Variable 'bilm/CNN_high_1/b_transform:0' shape=(2048,) dtype=float32>\n",
            "  <tf.Variable 'bilm/CNN_proj/W_proj:0' shape=(2048, 512) dtype=float32>\n",
            "  <tf.Variable 'bilm/CNN_proj/b_proj:0' shape=(512,) dtype=float32>\n",
            "  <tf.Variable 'bilm/RNN_0/RNN/MultiRNNCell/Cell0/rnn/lstm_cell/kernel:0' shape=(1024, 16384) dtype=float32>\n",
            "  <tf.Variable 'bilm/RNN_0/RNN/MultiRNNCell/Cell0/rnn/lstm_cell/bias:0' shape=(16384,) dtype=float32>\n",
            "  <tf.Variable 'bilm/RNN_0/RNN/MultiRNNCell/Cell0/rnn/lstm_cell/projection/kernel:0' shape=(4096, 512) dtype=float32>\n",
            "  <tf.Variable 'bilm/RNN_0/RNN/MultiRNNCell/Cell1/rnn/lstm_cell/kernel:0' shape=(1024, 16384) dtype=float32>\n",
            "  <tf.Variable 'bilm/RNN_0/RNN/MultiRNNCell/Cell1/rnn/lstm_cell/bias:0' shape=(16384,) dtype=float32>\n",
            "  <tf.Variable 'bilm/RNN_0/RNN/MultiRNNCell/Cell1/rnn/lstm_cell/projection/kernel:0' shape=(4096, 512) dtype=float32>\n",
            "  <tf.Variable 'bilm/RNN_1/RNN/MultiRNNCell/Cell0/rnn/lstm_cell/kernel:0' shape=(1024, 16384) dtype=float32>\n",
            "  <tf.Variable 'bilm/RNN_1/RNN/MultiRNNCell/Cell0/rnn/lstm_cell/bias:0' shape=(16384,) dtype=float32>\n",
            "  <tf.Variable 'bilm/RNN_1/RNN/MultiRNNCell/Cell0/rnn/lstm_cell/projection/kernel:0' shape=(4096, 512) dtype=float32>\n",
            "  <tf.Variable 'bilm/RNN_1/RNN/MultiRNNCell/Cell1/rnn/lstm_cell/kernel:0' shape=(1024, 16384) dtype=float32>\n",
            "  <tf.Variable 'bilm/RNN_1/RNN/MultiRNNCell/Cell1/rnn/lstm_cell/bias:0' shape=(16384,) dtype=float32>\n",
            "  <tf.Variable 'bilm/RNN_1/RNN/MultiRNNCell/Cell1/rnn/lstm_cell/projection/kernel:0' shape=(4096, 512) dtype=float32>\n",
            "  <tf.Variable 'aggregation/weights:0' shape=(3,) dtype=float32>\n",
            "  <tf.Variable 'aggregation/scaling:0' shape=() dtype=float32>\n",
            "It is possible that this is intended behavior, but it is more likely\n",
            "an omission. This is a strong indication that this layer should be\n",
            "formulated as a subclassed Layer rather than a Lambda layer.\n"
          ]
        }
      ]
    },
    {
      "cell_type": "code",
      "source": [
        "tag_model = Model(input_text, out)\n",
        "tag_model.compile(optimizer=\"adam\", loss=\"sparse_categorical_crossentropy\", metrics=[\"accuracy\"])\n",
        "\n"
      ],
      "metadata": {
        "id": "1TAAyTenJZew"
      },
      "execution_count": 23,
      "outputs": []
    },
    {
      "cell_type": "code",
      "source": [
        "tag_model.summary()"
      ],
      "metadata": {
        "colab": {
          "base_uri": "https://localhost:8080/"
        },
        "id": "2WWpnhpiLhR8",
        "outputId": "07d7f3cd-247a-472c-c763-5a2e11197ab3"
      },
      "execution_count": 24,
      "outputs": [
        {
          "output_type": "stream",
          "name": "stdout",
          "text": [
            "Model: \"model_1\"\n",
            "_________________________________________________________________\n",
            " Layer (type)                Output Shape              Param #   \n",
            "=================================================================\n",
            " input_7 (InputLayer)        [(None, 50)]              0         \n",
            "                                                                 \n",
            " lambda_6 (Lambda)           (None, 1024)              0         \n",
            "                                                                 \n",
            " dense (Dense)               (None, 512)               524800    \n",
            "                                                                 \n",
            " dense_1 (Dense)             (None, 17)                8721      \n",
            "                                                                 \n",
            "=================================================================\n",
            "Total params: 533521 (2.04 MB)\n",
            "Trainable params: 533521 (2.04 MB)\n",
            "Non-trainable params: 0 (0.00 Byte)\n",
            "_________________________________________________________________\n"
          ]
        }
      ]
    },
    {
      "cell_type": "code",
      "source": [
        "from tensorflow.keras.utils import plot_model\n",
        "plot_model(tag_model,'Elmo_tag.png',show_shapes= True)"
      ],
      "metadata": {
        "colab": {
          "base_uri": "https://localhost:8080/",
          "height": 422
        },
        "id": "I7GKmghSLzAj",
        "outputId": "759de0b7-5a68-4873-98d2-6b938ac352d0"
      },
      "execution_count": 25,
      "outputs": [
        {
          "output_type": "execute_result",
          "data": {
            "image/png": "[encoded data removed]",
            "text/plain": [
              "<IPython.core.display.Image object>"
            ]
          },
          "metadata": {},
          "execution_count": 25
        }
      ]
    }
  ]
}