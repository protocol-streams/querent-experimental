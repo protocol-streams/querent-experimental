{
  "nbformat": 4,
  "nbformat_minor": 0,
  "metadata": {
    "colab": {
      "provenance": [],
      "authorship_tag": "ABX9TyNLO5loHrN9JaaxrERQQCCm",
      "include_colab_link": true
    },
    "kernelspec": {
      "name": "python3",
      "display_name": "Python 3"
    },
    "language_info": {
      "name": "python"
    }
  },
  "cells": [
    {
      "cell_type": "markdown",
      "metadata": {
        "id": "view-in-github",
        "colab_type": "text"
      },
      "source": [
        "<a href=\"https://colab.research.google.com/github/protocol-streams/querent-experimental/blob/main/Temporal_Centrality_Encoding.ipynb\" target=\"_parent\"><img src=\"https://colab.research.google.com/assets/colab-badge.svg\" alt=\"Open In Colab\"/></a>"
      ]
    },
    {
      "cell_type": "markdown",
      "source": [
        "Scenario: Extended Influencer Analysis on Twitter\n",
        "You want to identify users who are not only influential over time (Temporal Centrality) but also have significant current influence in the network (Centrality Encoding).\n",
        "\n",
        "Steps:\n",
        "**Constructing the Temporal Graph:**\n",
        "\n",
        "As before, nodes represent users, and edges represent retweets or mentions with timestamps.\n",
        "\n",
        "**Calculating Degree Centrality:**\n",
        "\n",
        "For each user, calculate the number of mentions or retweets they receive (in-degree) and the number they make (out-degree).\n",
        "\n",
        "**Calculating Temporal Centrality:**\n",
        "\n",
        "For each user, consider the time since their first tweet or retweet.\n",
        "\n",
        "**Combining Both Encodings:**\n",
        "\n",
        "For each node, create a combined feature vector that includes both its degree centrality and its temporal centrality."
      ],
      "metadata": {
        "id": "akGExMjz1yu9"
      }
    },
    {
      "cell_type": "markdown",
      "source": [
        "Explanation:\n",
        "In this extended example:\n",
        "\n",
        "We first calculate the in-degrees and out-degrees for each user,\n",
        "representing their overall influence in the network.\n",
        "\n",
        "We then calculate the temporal centrality, representing their influence duration.\n",
        "\n",
        "Finally, we combine both metrics into a single dictionary, giving a comprehensive view of each user's influence.\n",
        "\n",
        "This combined approach allows you to identify users who are both currently influential and have been influential over time. It provides a more nuanced view of influence, which can be especially valuable for tasks like targeted marketing, community management, or trend prediction."
      ],
      "metadata": {
        "id": "SGIRfgXA3QSs"
      }
    },
    {
      "cell_type": "code",
      "execution_count": 2,
      "metadata": {
        "colab": {
          "base_uri": "https://localhost:8080/"
        },
        "id": "PvTR8rnb0QCR",
        "outputId": "95a75b81-7e9d-41d5-8090-8c51a5c84445"
      },
      "outputs": [
        {
          "output_type": "stream",
          "name": "stdout",
          "text": [
            "{'UserA': {'in_degree': 0, 'out_degree': 2, 'temporal': 14}, 'UserB': {'in_degree': 2, 'out_degree': 1, 'temporal': 10}, 'UserC': {'in_degree': 2, 'out_degree': 1, 'temporal': 3}}\n"
          ]
        }
      ],
      "source": [
        "import networkx as nx\n",
        "from datetime import datetime\n",
        "\n",
        "# Sample Twitter data (user, retweet/mention, timestamp)\n",
        "data = [\n",
        "    ('UserA', 'UserB', datetime(2022, 1, 1)),\n",
        "    ('UserB', 'UserC', datetime(2022, 1, 5)),\n",
        "    ('UserA', 'UserC', datetime(2022, 1, 10)),\n",
        "    ('UserC', 'UserB', datetime(2022, 1, 12))\n",
        "]\n",
        "\n",
        "# Create a directed temporal graph\n",
        "G = nx.DiGraph()\n",
        "for user, mention, timestamp in data:\n",
        "    G.add_edge(user, mention, timestamp=timestamp)\n",
        "\n",
        "# Calculate temporal centrality based on activity duration\n",
        "def temporal_centrality(graph, current_time):\n",
        "    centrality = {}\n",
        "    for node in graph.nodes():\n",
        "        timestamps = [data['timestamp'] for _, _, data in graph.edges(node, data=True)]\n",
        "        earliest_time = min(timestamps) if timestamps else current_time\n",
        "        centrality[node] = (current_time - earliest_time).days\n",
        "    return centrality\n",
        "\n",
        "# Calculate degree centrality\n",
        "in_degrees = dict(G.in_degree())\n",
        "out_degrees = dict(G.out_degree())\n",
        "\n",
        "# Combine both encodings\n",
        "current_time = datetime(2022, 1, 15)\n",
        "temporal_values = temporal_centrality(G, current_time)\n",
        "\n",
        "combined_centrality = {}\n",
        "for user in G.nodes():\n",
        "    combined_centrality[user] = {\n",
        "        'in_degree': in_degrees.get(user, 0),\n",
        "        'out_degree': out_degrees.get(user, 0),\n",
        "        'temporal': temporal_values.get(user, 0)\n",
        "    }\n",
        "\n",
        "print(combined_centrality)\n",
        "\n"
      ]
    }
  ]
}